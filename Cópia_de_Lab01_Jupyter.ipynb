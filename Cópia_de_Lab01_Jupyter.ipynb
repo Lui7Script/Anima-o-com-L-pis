{
  "nbformat": 4,
  "nbformat_minor": 0,
  "metadata": {
    "kernelspec": {
      "display_name": "Python 3",
      "language": "python",
      "name": "python3"
    },
    "language_info": {
      "codemirror_mode": {
        "name": "ipython",
        "version": 3
      },
      "file_extension": ".py",
      "mimetype": "text/x-python",
      "name": "python",
      "nbconvert_exporter": "python",
      "pygments_lexer": "ipython3",
      "version": "3.6.9"
    },
    "colab": {
      "name": "Cópia de Lab01_Jupyter.ipynb",
      "provenance": [],
      "collapsed_sections": [],
      "include_colab_link": true
    }
  },
  "cells": [
    {
      "cell_type": "markdown",
      "metadata": {
        "id": "view-in-github",
        "colab_type": "text"
      },
      "source": [
        "<a href=\"https://colab.research.google.com/github/Lui7Script/Anima-o-com-L-pis/blob/main/C%C3%B3pia_de_Lab01_Jupyter.ipynb\" target=\"_parent\"><img src=\"https://colab.research.google.com/assets/colab-badge.svg\" alt=\"Open In Colab\"/></a>"
      ]
    },
    {
      "cell_type": "markdown",
      "metadata": {
        "id": "WgwuJExvp2QJ"
      },
      "source": [
        "# Lab01 - Introdução ao Jupyter Notebook\n",
        "\n",
        "O **Jupyter Notebook** é uma aplicação de código aberto (BSD license) que permite criar e compartilhar documentos que contenham um código iterativo.\n",
        "\n",
        "Já o **Google Colaboratory** é uma plataforma que permite que você execute seus scripts online utilizando os recursos (CPU e GPU - placas de vídeo) da nuvem da Google. \n",
        "\n",
        "É muito utilizado pelos cientistas de dados e programadores de I.A. para implementar protótipos e projetos.\n",
        "\n",
        "Cada linha do Jupyter pode ser do tipo:\n",
        "\n",
        "- **Code**: para código interativo \n",
        "- **Texto**: para escrever textos como este que você está lendo\n",
        "\n",
        "Para ver como é feito um texto como este clique duas vezes nesta célula. \n",
        "\n",
        "Para voltar à exibição normal clique **Shift+Enter**"
      ]
    },
    {
      "cell_type": "code",
      "source": [
        ""
      ],
      "metadata": {
        "id": "mJ7Y_eWe0jdg"
      },
      "execution_count": 17,
      "outputs": []
    },
    {
      "cell_type": "markdown",
      "metadata": {
        "id": "PUw8-AKPp2QL"
      },
      "source": [
        "# Exercício 1.1 - Editando uma célula de Texto\n",
        "\n",
        "Clique duas vezes nesta célula e preencha o formulário abaixo. Para salvar clique Shift+Enter:\n",
        "\n",
        "### Informações do Grupo\n",
        "\n",
        "- **Data**: \n",
        "- **Alunos**: \n",
        " - Luiz Gustavo de Almeida Cruz (gustavol2010@yahoo.com)\n",
        " - Nome Sobrenome (e-mail)\n",
        "\n",
        "Consulte o link https://jupyter-notebook.readthedocs.io/en/stable/examples/Notebook/Working%20With%20Markdown%20Cells.html para saber como formatar uma célula do tipo Texto"
      ]
    },
    {
      "cell_type": "markdown",
      "metadata": {
        "id": "eMZr_iozp2QM"
      },
      "source": [
        "# Exercício 1.2 - Atalhos de teclado e criando uma nova célula do tipo Code\n",
        "\n",
        "Primeiro, conheça abaixo os atalhos de teclado do jupyter (só funcionam se a célula não estiver em edição):\n",
        "\n",
        "| Atalho | Descrição |\n",
        "| --- | --- |\n",
        "| Ctrl-[ | Recolher seções |\n",
        "| Shift-Enter | executa a célula |\n",
        "| Ctrl+M+B | Adicionar célula de código |\n",
        "| Ctrl-F9 | Executar Tudo |\n",
        "| Ctrl+M+I | Interromper Execução |\n",
        "| Ctrl+M+. | Reiniciar Ambiente de Execução |\n",
        "| Ctrl+Shift+P | Abrir paleta de comandos |\n",
        "| Ctrl+M+H | Atalhos do Teclado |\n",
        "\n",
        "Crie uma célula de código imediatamente abaixo e coloque o seguinte código:\n",
        "\n",
        "**<pre>\n",
        " for i in range(0,5):\n",
        "    print(i,'Olá mundo!')\n",
        "</pre>**\n",
        "\n",
        "Execute a célula (utilize o atalho __Ctrl+Enter__)\n",
        "\n",
        "\n"
      ]
    },
    {
      "cell_type": "code",
      "source": [
        "for i in range(0,5):\n",
        "    print(i,'Olá mundo!')"
      ],
      "metadata": {
        "colab": {
          "base_uri": "https://localhost:8080/"
        },
        "id": "uDEEnJwX1hMH",
        "outputId": "3584886b-9e0a-43fa-fbc8-b85a655b13d7"
      },
      "execution_count": 18,
      "outputs": [
        {
          "output_type": "stream",
          "name": "stdout",
          "text": [
            "0 Olá mundo!\n",
            "1 Olá mundo!\n",
            "2 Olá mundo!\n",
            "3 Olá mundo!\n",
            "4 Olá mundo!\n"
          ]
        }
      ]
    },
    {
      "cell_type": "code",
      "source": [
        ""
      ],
      "metadata": {
        "id": "GofbukLq1v_p"
      },
      "execution_count": 18,
      "outputs": []
    },
    {
      "cell_type": "markdown",
      "metadata": {
        "id": "XfO_iC5Xp2QN"
      },
      "source": [
        "# Exercício 1.3 - Autocomplete e mini documentação do método\n",
        "\n",
        "Aqui vamos aprender dois outros atalhos:\n",
        "\n",
        "| Atalho | Descrição |\n",
        "| --- | --- |\n",
        "| __Tab__ | autocompleta durante a digitação |\n",
        "| __Shift-Tab__ | abre uma minijanela com parte da documentação sobre a parte do código durante a documentação |\n",
        "\n",
        "Adicione uma linha abaixo com o seguinte código e execute a linha:\n",
        "    \n",
        "**<pre>\n",
        "import pandas as pd\n",
        "</pre>**\n",
        "\n",
        "Adicione uma segunda linha abaixo e comece a digitar o código abaixo e no final utilize o atalho Crtl+Espaço para ver o recurso de auto-complete:\n",
        "\n",
        "**<pre>\n",
        "pd.read\n",
        "</pre>**\n",
        "\n",
        "Veja que vai aparecer uma lista de comandos do pacote pandas que começam com \"read\"\n",
        "\n",
        "Escolha um dos métodos que aparece na janela.\n",
        "\n",
        "Após escolher, utilize o atalho __Shift+Tab__ para ver sua documentação resumida."
      ]
    },
    {
      "cell_type": "code",
      "source": [
        "import pandas as pd\n",
        "#pd.read_table"
      ],
      "metadata": {
        "id": "98fE9qVZ1fvx"
      },
      "execution_count": 19,
      "outputs": []
    },
    {
      "cell_type": "code",
      "source": [
        ""
      ],
      "metadata": {
        "id": "cEga2gC026P5"
      },
      "execution_count": 19,
      "outputs": []
    },
    {
      "cell_type": "markdown",
      "metadata": {
        "id": "gwqcXjM-p2QO"
      },
      "source": [
        "# Exercício 1.4 - Comandos utilitários\n",
        "\n",
        "Aqui vamos aprender alguns comandos úteis do Jupyter:\n",
        "\n",
        "| Comando | Descrição |\n",
        "| --- | --- |\n",
        "| __%pwd__ | mostra o diretório corrente |\n",
        "| __%%time__ | mostra o tempo de execução da célula |\n",
        "| __%matplotlib inline__ | exibe os gráficos doo matplotlib na própria tela do jupyter |\n",
        "\n",
        "Adicione uma linha abaixo com o seguinte código e execute a linha:\n",
        "    \n",
        "**<pre>\n",
        "%pwd\n",
        "</pre>**\n",
        "\n",
        "Veja que aparece o caminho do diretório em que estamos. Clique ao lado no símbolo da pasta para ver esse diretório e o que contém nele.\n",
        "\n",
        "Em seguida, crie uma outra célula de código e liste os arquivos desse diretório com o comando abaixo:\n",
        "\n",
        "**<pre>\n",
        "%ls -la sample_data/\n",
        "</pre>**\n",
        "\n",
        "\n",
        "Crie uma outra célula abaixo com o código abaixo:\n",
        "\n",
        "**<pre>\n",
        "%%time\n",
        "soma = 0\n",
        "for i in range (1,10000000):\n",
        "  soma = soma + 1/i\n",
        "print(soma)\n",
        "</pre>**\n",
        "\n",
        "Veja que quando utilizando a diretiva %%time será mostrado o tempo de execução da célula. Isso será muito útil em nossos programas\n",
        "\n",
        "Finalmente, adicione uma terceira célula com o código abaixo:\n",
        "\n",
        "**<pre>\n",
        "%matplotlib inline\n",
        "import matplotlib.pyplot as plt\n",
        "plt.plot([1,2,3,4],[2,3,5,13])\n",
        "</pre>**\n",
        "\n",
        "Veja que será exibido um gráfico no próprio notebook"
      ]
    },
    {
      "cell_type": "code",
      "source": [
        "%matplotlib inline\n",
        "import matplotlib.pyplot as plt\n",
        "plt.plot([1,2,3,4],[2,3,5,13])"
      ],
      "metadata": {
        "colab": {
          "base_uri": "https://localhost:8080/",
          "height": 282
        },
        "id": "5U-H2JEx4aEX",
        "outputId": "e11c4fbe-ea4e-4ec7-c774-0b479943aaed"
      },
      "execution_count": 20,
      "outputs": [
        {
          "output_type": "execute_result",
          "data": {
            "text/plain": [
              "[<matplotlib.lines.Line2D at 0x7f5080340710>]"
            ]
          },
          "metadata": {},
          "execution_count": 20
        },
        {
          "output_type": "display_data",
          "data": {
            "text/plain": [
              "<Figure size 432x288 with 1 Axes>"
            ],
            "image/png": "[encoded data removed]"
          },
          "metadata": {
            "needs_background": "light"
          }
        }
      ]
    },
    {
      "cell_type": "code",
      "source": [
        "%%time\n",
        "soma = 0\n",
        "for i in range (1,100000000):\n",
        "  soma = soma + 1/i\n",
        "print(soma)"
      ],
      "metadata": {
        "colab": {
          "base_uri": "https://localhost:8080/"
        },
        "id": "ebMdyKL133jK",
        "outputId": "3cf279a8-7e0e-4da2-9516-d65d34a9ac2f"
      },
      "execution_count": 21,
      "outputs": [
        {
          "output_type": "stream",
          "name": "stdout",
          "text": [
            "18.997896403852554\n",
            "CPU times: user 13.7 s, sys: 30 ms, total: 13.7 s\n",
            "Wall time: 13.7 s\n"
          ]
        }
      ]
    },
    {
      "cell_type": "code",
      "source": [
        "%ls -la sample_data/"
      ],
      "metadata": {
        "colab": {
          "base_uri": "https://localhost:8080/"
        },
        "id": "V-zKf8WK3UK2",
        "outputId": "a8524a8a-6025-4523-9fdd-084b6893e375"
      },
      "execution_count": 22,
      "outputs": [
        {
          "output_type": "stream",
          "name": "stdout",
          "text": [
            "total 55512\n",
            "drwxr-xr-x 1 root root     4096 Mar 23 14:22 \u001b[0m\u001b[01;34m.\u001b[0m/\n",
            "drwxr-xr-x 1 root root     4096 Mar 23 14:22 \u001b[01;34m..\u001b[0m/\n",
            "-rwxr-xr-x 1 root root     1697 Jan  1  2000 \u001b[01;32manscombe.json\u001b[0m*\n",
            "-rw-r--r-- 1 root root   301141 Mar 23 14:22 california_housing_test.csv\n",
            "-rw-r--r-- 1 root root  1706430 Mar 23 14:22 california_housing_train.csv\n",
            "-rw-r--r-- 1 root root 18289443 Mar 23 14:22 mnist_test.csv\n",
            "-rw-r--r-- 1 root root 36523880 Mar 23 14:22 mnist_train_small.csv\n",
            "-rwxr-xr-x 1 root root      930 Jan  1  2000 \u001b[01;32mREADME.md\u001b[0m*\n"
          ]
        }
      ]
    },
    {
      "cell_type": "code",
      "source": [
        "%pwd"
      ],
      "metadata": {
        "colab": {
          "base_uri": "https://localhost:8080/",
          "height": 35
        },
        "id": "QSoDSg5227BP",
        "outputId": "074c9b88-027c-4847-a746-20c8c2bf1618"
      },
      "execution_count": 23,
      "outputs": [
        {
          "output_type": "execute_result",
          "data": {
            "text/plain": [
              "'/content'"
            ],
            "application/vnd.google.colaboratory.intrinsic+json": {
              "type": "string"
            }
          },
          "metadata": {},
          "execution_count": 23
        }
      ]
    },
    {
      "cell_type": "markdown",
      "metadata": {
        "id": "k4EMUKmap2QP"
      },
      "source": [
        "# Exercício 1.5 - Interagindo com o Sistema Operacional\n",
        "\n",
        "Caso queira executar um comando diretamente no sistema operacional, basta utilizar a exclamação '__!__'  antes do comando\n",
        "    \n",
        "Crie uma célula abaixo e execute o código abaixo\n",
        "    \n",
        "**<pre>\n",
        "!dir\n",
        "</pre>**\n",
        "\n",
        "Caso algum dia seja necessário instalar algum pacote, experimente instalar por aqui. \n",
        "\n",
        "Por exemplo, vamos tentar instalar o pacote **pandas** com o comando abaixo. Veja que estamos utilizando o gerenciador de pacotes **pip** do python\n",
        "\n",
        "Crie uma nova célula e execute o código abaixo:\n",
        "\n",
        "**<pre>\n",
        "!pip install pandas\n",
        "</pre>**\n",
        "\n",
        "O comando vai informar que este pacote já está instalado."
      ]
    },
    {
      "cell_type": "code",
      "source": [
        "!pip install pandas\n"
      ],
      "metadata": {
        "colab": {
          "base_uri": "https://localhost:8080/"
        },
        "id": "Qqg4cwd-4xyq",
        "outputId": "f5498d36-6735-4897-d640-be176500eda8"
      },
      "execution_count": 24,
      "outputs": [
        {
          "output_type": "stream",
          "name": "stdout",
          "text": [
            "Requirement already satisfied: pandas in /usr/local/lib/python3.7/dist-packages (1.3.5)\n",
            "Requirement already satisfied: python-dateutil>=2.7.3 in /usr/local/lib/python3.7/dist-packages (from pandas) (2.8.2)\n",
            "Requirement already satisfied: numpy>=1.17.3 in /usr/local/lib/python3.7/dist-packages (from pandas) (1.21.5)\n",
            "Requirement already satisfied: pytz>=2017.3 in /usr/local/lib/python3.7/dist-packages (from pandas) (2018.9)\n",
            "Requirement already satisfied: six>=1.5 in /usr/local/lib/python3.7/dist-packages (from python-dateutil>=2.7.3->pandas) (1.15.0)\n"
          ]
        }
      ]
    },
    {
      "cell_type": "code",
      "source": [
        "!dir"
      ],
      "metadata": {
        "colab": {
          "base_uri": "https://localhost:8080/"
        },
        "id": "69zYtaE14tiy",
        "outputId": "372dbc81-ebc0-46ba-fc01-8112a908b744"
      },
      "execution_count": 25,
      "outputs": [
        {
          "output_type": "stream",
          "name": "stdout",
          "text": [
            "sample_data\n"
          ]
        }
      ]
    },
    {
      "cell_type": "markdown",
      "metadata": {
        "id": "3VVCSUwJp2QQ"
      },
      "source": [
        "# ENTREGA DO EXERCÍCIO\n",
        "\n",
        "Após salvar as alterações desse notebook, utilize a opção **Ambiente de Execução > Reiniciar e Executar Tudo** para ver que tudo está funcionando adequadamente.\n",
        "\n",
        "Em seguida, utilize o menu **Arquivo > Fazer o download do .ipynb** e poste este arquivo no Ulife."
      ]
    },
    {
      "cell_type": "markdown",
      "metadata": {
        "id": "FRrb2hSAC3IF"
      },
      "source": [
        "FIM"
      ]
    }
  ]
}